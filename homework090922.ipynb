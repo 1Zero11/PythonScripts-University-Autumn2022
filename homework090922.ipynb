{
 "cells": [
  {
   "cell_type": "code",
   "execution_count": 9,
   "metadata": {
    "collapsed": true,
    "pycharm": {
     "name": "#%%\n"
    }
   },
   "outputs": [
    {
     "name": "stdout",
     "output_type": "stream",
     "text": [
      "y[0][1] = -4.0\n",
      "y[1][2] = 2.0\n",
      "y[0][2] = 2.0\n",
      "y[2][3] = 1.75\n",
      "y[1][3] = -0.041666666666666664\n",
      "y[0][3] = -0.29166666666666663\n"
     ]
    },
    {
     "data": {
      "text/plain": "-0.29166666666666663"
     },
     "execution_count": 9,
     "metadata": {},
     "output_type": "execute_result"
    }
   ],
   "source": [
    "x = [1, 2, 4, 8]\n",
    "y = [3, -1, 3, 10]\n",
    "\n",
    "dict = {}\n",
    "\n",
    "def form(y, x, i, j):\n",
    "    if (i, j) in dict.keys():\n",
    "        return dict[(i,j)]\n",
    "    if i==j:\n",
    "        return y[i]\n",
    "    pr1 = form(y,x,i,j-1)\n",
    "    pr2 = form(y,x,i+1,j)\n",
    "    number = (pr1-pr2)/(x[i]-x[j])\n",
    "    print(f'y[{i}][{j}] = {number}')\n",
    "    dict[(i,j)] = number\n",
    "    return number\n",
    "\n",
    "form(y,x,0,3)"
   ]
  },
  {
   "cell_type": "code",
   "execution_count": 4,
   "outputs": [],
   "source": [],
   "metadata": {
    "collapsed": false,
    "pycharm": {
     "name": "#%%\n"
    }
   }
  }
 ],
 "metadata": {
  "kernelspec": {
   "display_name": "Python 3",
   "language": "python",
   "name": "python3"
  },
  "language_info": {
   "codemirror_mode": {
    "name": "ipython",
    "version": 2
   },
   "file_extension": ".py",
   "mimetype": "text/x-python",
   "name": "python",
   "nbconvert_exporter": "python",
   "pygments_lexer": "ipython2",
   "version": "2.7.6"
  }
 },
 "nbformat": 4,
 "nbformat_minor": 0
}