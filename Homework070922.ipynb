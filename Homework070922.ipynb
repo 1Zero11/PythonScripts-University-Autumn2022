{
 "cells": [
  {
   "cell_type": "code",
   "execution_count": 1,
   "metadata": {
    "collapsed": true,
    "pycharm": {
     "name": "#%%\n"
    }
   },
   "outputs": [],
   "source": [
    "def linearFunc (a, b):\n",
    "    def func(x):\n",
    "        return a*x+b\n",
    "    return func\n",
    "\n",
    "def quadraticFucn (a,b,c):\n",
    "    def func(x):\n",
    "        return a*x*x + b*x +c\n",
    "    return func"
   ]
  },
  {
   "cell_type": "code",
   "execution_count": 2,
   "outputs": [],
   "source": [
    "def rectangularFormula(function, a, b):\n",
    "    c = (a+b)/2.0\n",
    "    return (b-a)*function(c)\n",
    "\n",
    "def trapezoidFormula(function, a, b):\n",
    "    return (function(a)+function(b))*(b-a)/2.0"
   ],
   "metadata": {
    "collapsed": false,
    "pycharm": {
     "name": "#%%\n"
    }
   }
  },
  {
   "cell_type": "code",
   "execution_count": 3,
   "outputs": [],
   "source": [
    "def computeArea(y, areaForm, n, a, b):\n",
    "    area = 0\n",
    "    step = (b-a)/n\n",
    "    for i in range(n):\n",
    "        nexta = a+step\n",
    "        area += areaForm(y,a,nexta)\n",
    "        a = nexta\n",
    "\n",
    "    return area"
   ],
   "metadata": {
    "collapsed": false,
    "pycharm": {
     "name": "#%%\n"
    }
   }
  },
  {
   "cell_type": "code",
   "execution_count": 4,
   "outputs": [
    {
     "name": "stdout",
     "output_type": "stream",
     "text": [
      "335.0\n"
     ]
    }
   ],
   "source": [
    "qdr = quadraticFucn(1,0,0)\n",
    "lin = linearFunc(1,0)\n",
    "n = 10\n",
    "a = 0\n",
    "b = 10\n",
    "area = computeArea(qdr, trapezoidFormula, n, a, b)\n",
    "print(area)"
   ],
   "metadata": {
    "collapsed": false,
    "pycharm": {
     "name": "#%%\n"
    }
   }
  },
  {
   "cell_type": "code",
   "execution_count": 4,
   "outputs": [],
   "source": [],
   "metadata": {
    "collapsed": false,
    "pycharm": {
     "name": "#%%\n"
    }
   }
  }
 ],
 "metadata": {
  "kernelspec": {
   "display_name": "Python 3",
   "language": "python",
   "name": "python3"
  },
  "language_info": {
   "codemirror_mode": {
    "name": "ipython",
    "version": 2
   },
   "file_extension": ".py",
   "mimetype": "text/x-python",
   "name": "python",
   "nbconvert_exporter": "python",
   "pygments_lexer": "ipython2",
   "version": "2.7.6"
  }
 },
 "nbformat": 4,
 "nbformat_minor": 0
}