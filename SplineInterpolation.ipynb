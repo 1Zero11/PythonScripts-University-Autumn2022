{
 "cells": [
  {
   "cell_type": "code",
   "execution_count": 171,
   "outputs": [],
   "source": [
    "import math"
   ],
   "metadata": {
    "collapsed": false
   }
  },
  {
   "cell_type": "code",
   "execution_count": 172,
   "outputs": [],
   "source": [
    "def binomial_coefficient (k, n):\n",
    "    return math.factorial(n)/(math.factorial(n-k)*math.factorial(k))\n",
    "\n",
    "def newton_binom(b, degree):\n",
    "    return [binomial_coefficient(i, degree)*math.pow(b,i) for i in range(degree, -1, -1)]"
   ],
   "metadata": {
    "collapsed": false
   }
  },
  {
   "cell_type": "code",
   "execution_count": 173,
   "outputs": [
    {
     "name": "stdout",
     "output_type": "stream",
     "text": [
      "[64.0, 48.0, 12.0, 1.0]\n"
     ]
    }
   ],
   "source": [
    "print(newton_binom(4, 3))"
   ],
   "metadata": {
    "collapsed": false
   }
  },
  {
   "cell_type": "code",
   "execution_count": 174,
   "metadata": {
    "collapsed": true
   },
   "outputs": [],
   "source": [
    "class Polynomial:\n",
    "    def __init__(self, coefs):\n",
    "        self.coefficients = coefs\n",
    "\n",
    "    def __add__(self, otherPoly):\n",
    "        max_len = max(len(self.coefficients), len(otherPoly.coefficients))\n",
    "        result = [0]*max_len\n",
    "        for i in range(len(self.coefficients)):\n",
    "            result[i] += self.coefficients[i]\n",
    "        for i in range(len(otherPoly.coefficients)):\n",
    "            result[i] += otherPoly.coefficients[i]\n",
    "\n",
    "        return Polynomial(result)\n",
    "\n",
    "    def compute_in_point (self, x):\n",
    "        result = 0\n",
    "        for degree in range(len(self.coefficients)):\n",
    "            result += self.coefficients[degree]*math.pow(x, degree)\n",
    "        return result\n",
    "\n",
    "    def expand_new(self, b):\n",
    "        g_coefficients = self.coefficients.copy()\n",
    "\n",
    "        for i in range(len(self.coefficients)-1, 0, -1):\n",
    "            coeffs = newton_binom(b, i)\n",
    "            for j in range(0,len(coeffs)-1):\n",
    "                g_coefficients[j] -= coeffs[j]*g_coefficients[len(coeffs)-1]\n",
    "\n",
    "        return Polynomial(g_coefficients)\n",
    "\n"
   ]
  },
  {
   "cell_type": "code",
   "execution_count": 175,
   "outputs": [
    {
     "name": "stdout",
     "output_type": "stream",
     "text": [
      "4.0\n",
      "[1, 2, 4, 4]\n"
     ]
    }
   ],
   "source": [
    "a = Polynomial([0,0,1])\n",
    "b = Polynomial([1,2,3,4])\n",
    "print(a.compute_in_point(2))\n",
    "print((a+b).coefficients)"
   ],
   "metadata": {
    "collapsed": false
   }
  },
  {
   "cell_type": "code",
   "execution_count": 176,
   "outputs": [
    {
     "name": "stdout",
     "output_type": "stream",
     "text": [
      "[18.0, -11.0, 2]\n"
     ]
    }
   ],
   "source": [
    "c = Polynomial([3,1,2])\n",
    "print(c.expand_new(3).coefficients)"
   ],
   "metadata": {
    "collapsed": false
   }
  },
  {
   "cell_type": "code",
   "execution_count": 176,
   "outputs": [],
   "source": [],
   "metadata": {
    "collapsed": false
   }
  }
 ],
 "metadata": {
  "kernelspec": {
   "display_name": "Python 3",
   "language": "python",
   "name": "python3"
  },
  "language_info": {
   "codemirror_mode": {
    "name": "ipython",
    "version": 2
   },
   "file_extension": ".py",
   "mimetype": "text/x-python",
   "name": "python",
   "nbconvert_exporter": "python",
   "pygments_lexer": "ipython2",
   "version": "2.7.6"
  }
 },
 "nbformat": 4,
 "nbformat_minor": 0
}
