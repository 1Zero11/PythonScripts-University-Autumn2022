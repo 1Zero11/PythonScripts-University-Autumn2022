{
 "cells": [
  {
   "cell_type": "code",
   "execution_count": 7,
   "metadata": {
    "collapsed": true,
    "pycharm": {
     "name": "#%%\n"
    }
   },
   "outputs": [],
   "source": [
    "def linearFunc (a, b):\n",
    "    def func(x):\n",
    "        return a*x+b\n",
    "    return func\n",
    "\n",
    "def quadraticFucn (a,b,c):\n",
    "    def func(x):\n",
    "        return a*x*x + b*x +c\n",
    "    return func"
   ]
  },
  {
   "cell_type": "code",
   "execution_count": 8,
   "outputs": [],
   "source": [
    "import random\n",
    "\n",
    "def computeArea(y, a, b, c, d, n):\n",
    "    m = 0\n",
    "    for i in range(n):\n",
    "        X = random.uniform(a, b)\n",
    "        Y = random.uniform(c, d)\n",
    "        m += int(y(X)>=Y)\n",
    "\n",
    "    return c*(b-a)+(m/n)*(d-c)*(b-a)"
   ],
   "metadata": {
    "collapsed": false,
    "pycharm": {
     "name": "#%%\n"
    }
   }
  },
  {
   "cell_type": "code",
   "execution_count": 9,
   "outputs": [
    {
     "name": "stdout",
     "output_type": "stream",
     "text": [
      "-1.3080000000009022\n"
     ]
    }
   ],
   "source": [
    "import math\n",
    "\n",
    "lin = lambda x: math.sin(x)\n",
    "a = -100\n",
    "b = 100\n",
    "c = -100\n",
    "d = 100\n",
    "n = 1000000\n",
    "\n",
    "area = computeArea(lin, a,b,c,d,n)\n",
    "print(area)"
   ],
   "metadata": {
    "collapsed": false,
    "pycharm": {
     "name": "#%%\n"
    }
   }
  },
  {
   "cell_type": "code",
   "execution_count": 9,
   "outputs": [],
   "source": [],
   "metadata": {
    "collapsed": false,
    "pycharm": {
     "name": "#%%\n"
    }
   }
  }
 ],
 "metadata": {
  "kernelspec": {
   "display_name": "Python 3",
   "language": "python",
   "name": "python3"
  },
  "language_info": {
   "codemirror_mode": {
    "name": "ipython",
    "version": 2
   },
   "file_extension": ".py",
   "mimetype": "text/x-python",
   "name": "python",
   "nbconvert_exporter": "python",
   "pygments_lexer": "ipython2",
   "version": "2.7.6"
  }
 },
 "nbformat": 4,
 "nbformat_minor": 0
}