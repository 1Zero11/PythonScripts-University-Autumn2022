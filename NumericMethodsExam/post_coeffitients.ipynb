{
 "cells": [
  {
   "cell_type": "code",
   "execution_count": null,
   "metadata": {
    "collapsed": true
   },
   "outputs": [],
   "source": [
    "x = [-1, 2, 3, 4, 6, 8]\n",
    "y = [10, 2, -1, 3, 4, -2]\n",
    "\n",
    "dict = {}\n",
    "\n",
    "def form(y, x, i, j):\n",
    "    if (i, j) in dict.keys():\n",
    "        return dict[(i,j)]\n",
    "    if i==j:\n",
    "        return y[i]\n",
    "    pr1 = form(y,x,i,j-1)\n",
    "    pr2 = form(y,x,i+1,j)\n",
    "    number = (pr1-pr2)/(x[i]-x[j])\n",
    "    print(f'y[{i}][{j}] = {number}')\n",
    "    dict[(i,j)] = number\n",
    "    return number\n",
    "\n",
    "form(y,x,0,5)"
   ]
  }
 ],
 "metadata": {
  "kernelspec": {
   "display_name": "Python 3",
   "language": "python",
   "name": "python3"
  },
  "language_info": {
   "codemirror_mode": {
    "name": "ipython",
    "version": 2
   },
   "file_extension": ".py",
   "mimetype": "text/x-python",
   "name": "python",
   "nbconvert_exporter": "python",
   "pygments_lexer": "ipython2",
   "version": "2.7.6"
  }
 },
 "nbformat": 4,
 "nbformat_minor": 0
}
