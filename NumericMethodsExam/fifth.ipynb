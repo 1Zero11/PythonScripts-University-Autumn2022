{
 "cells": [
  {
   "cell_type": "code",
   "execution_count": null,
   "metadata": {
    "collapsed": true
   },
   "outputs": [],
   "source": [
    "import math\n",
    "def funcHord(f,a,b,acc):\n",
    "    y1=f(a)\n",
    "    y2=f(b)\n",
    "    while abs(y1)>acc and abs(y1)>acc:\n",
    "        if abs(y1)<acc:\n",
    "            return(a)\n",
    "        if abs(y2)<acc:\n",
    "            return(b)\n",
    "        x=y1*(b-a)/(y1-y2)+a\n",
    "        if f(x)>0:\n",
    "            b=x\n",
    "            y2=f(x)\n",
    "        else:\n",
    "            a=x\n",
    "            y1=f(x)\n",
    "\n",
    "\n",
    "print(funcHord(lambda x: math.sin(x)-1/x,0.5,1.6,0.0000001))"
   ]
  }
 ],
 "metadata": {
  "kernelspec": {
   "display_name": "Python 3",
   "language": "python",
   "name": "python3"
  },
  "language_info": {
   "codemirror_mode": {
    "name": "ipython",
    "version": 2
   },
   "file_extension": ".py",
   "mimetype": "text/x-python",
   "name": "python",
   "nbconvert_exporter": "python",
   "pygments_lexer": "ipython2",
   "version": "2.7.6"
  }
 },
 "nbformat": 4,
 "nbformat_minor": 0
}
