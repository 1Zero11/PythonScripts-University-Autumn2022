{
 "cells": [
  {
   "cell_type": "code",
   "execution_count": null,
   "metadata": {
    "collapsed": true
   },
   "outputs": [],
   "source": [
    "'''Метод трапеций'''\n",
    "def funcT(f,n,a,b):\n",
    "    res = 0.0\n",
    "    len=(b-a)/n\n",
    "    for i in range(n):\n",
    "        res = res + (f(a+i*len) + f(a+(i+1)*len))/2\n",
    "    return res * len\n",
    "\n",
    "'''Метод прямоугольников'''\n",
    "def funcP(f,n,a,b):\n",
    "    res = 0.0\n",
    "    len=(b-a)/n\n",
    "    for i in range(n):\n",
    "        res = res + f(((a+i*len) + (a+(i+1)*len))/2)\n",
    "    return res * len\n",
    "\n",
    "'''Метод Симпсона'''\n",
    "def funcS(f,n,a,b):\n",
    "    res = 0.0\n",
    "    len=(b-a)/n\n",
    "    for i in range(n):\n",
    "        res = res + f(((a+i*len) + (a+(i+1)*len))/2)*2/3 + (f(a+i*len) + f(a+(i+1)*len))/6\n",
    "    return res * len\n",
    "\n",
    "\n",
    "def mainF(type,f,a,b,acc):\n",
    "    n=1\n",
    "    '''Вычисляем допустимую дельту для точности'''\n",
    "    if (type==\"T\"):\n",
    "        accuracy=(acc*12)**(1/3)\n",
    "    if (type == \"P\"):\n",
    "        accuracy = (acc * 24) ** (1 / 3)\n",
    "    if (type == \"S\"):\n",
    "        accuracy = (acc * 2880) ** (1 / 5)\n",
    "    while (accuracy<(b-a)/n):\n",
    "        n=n+1\n",
    "    if(type==\"T\"):\n",
    "        return funcT(f,n,a,b)\n",
    "    if (type == \"P\"):\n",
    "        return funcP(f,n,a,b)\n",
    "    if (type == \"S\"):\n",
    "        return funcS(f,n,a,b)\n",
    "\n",
    "'''Метод, функция, нижнее значение, верхнее, точность'''\n",
    "print(mainF(\"S\",lambda x: x*2**(1-0.1*x**2),0,5,0.001))"
   ]
  }
 ],
 "metadata": {
  "kernelspec": {
   "display_name": "Python 3",
   "language": "python",
   "name": "python3"
  },
  "language_info": {
   "codemirror_mode": {
    "name": "ipython",
    "version": 2
   },
   "file_extension": ".py",
   "mimetype": "text/x-python",
   "name": "python",
   "nbconvert_exporter": "python",
   "pygments_lexer": "ipython2",
   "version": "2.7.6"
  }
 },
 "nbformat": 4,
 "nbformat_minor": 0
}
